{
 "cells": [
  {
   "cell_type": "markdown",
   "id": "3f87cc5d",
   "metadata": {
    "papermill": {
     "duration": 0.020909,
     "end_time": "2021-12-31T22:25:23.514319",
     "exception": false,
     "start_time": "2021-12-31T22:25:23.493410",
     "status": "completed"
    },
    "tags": []
   },
   "source": [
    "# Introduction to Exploritary Data Analysis\n",
    "Using Pandas!\n",
    "\n",
    "This notebook goes along with a tutorial that can be found on the [Medallion Data Science youtube channel](https://www.youtube.com/channel/UCxladMszXan-jfgzyeIMyvw). Click the link and subscribe for future tutorials."
   ]
  },
  {
   "cell_type": "markdown",
   "id": "5a4c9702",
   "metadata": {
    "papermill": {
     "duration": 0.018835,
     "end_time": "2021-12-31T22:25:23.552370",
     "exception": false,
     "start_time": "2021-12-31T22:25:23.533535",
     "status": "completed"
    },
    "tags": []
   },
   "source": [
    "# Step 0: Imports and Reading Data"
   ]
  },
  {
   "cell_type": "code",
   "execution_count": 1,
   "id": "7daf9201",
   "metadata": {
    "_cell_guid": "b1076dfc-b9ad-4769-8c92-a6c4dae69d19",
    "_uuid": "8f2839f25d086af736a60e9eeb907d3b93b6e0e5",
    "papermill": {
     "duration": 0.950081,
     "end_time": "2021-12-31T22:25:24.521694",
     "exception": false,
     "start_time": "2021-12-31T22:25:23.571613",
     "status": "completed"
    },
    "tags": []
   },
   "outputs": [],
   "source": [
    "import pandas as pd\n",
    "import numpy as np\n",
    "import matplotlib.pylab as plt\n",
    "import seaborn as sns\n",
    "plt.style.use('ggplot')\n",
    "pd.set_option('display.max_columns', 200)"
   ]
  },
  {
   "cell_type": "code",
   "execution_count": 2,
   "id": "2a5739ac",
   "metadata": {
    "papermill": {
     "duration": 0.070227,
     "end_time": "2021-12-31T22:25:24.611069",
     "exception": false,
     "start_time": "2021-12-31T22:25:24.540842",
     "status": "completed"
    },
    "tags": []
   },
   "outputs": [],
   "source": [
    "df = pd.read_csv('input/train.csv')"
   ]
  },
  {
   "cell_type": "markdown",
   "id": "0df2920f",
   "metadata": {
    "papermill": {
     "duration": 0.023547,
     "end_time": "2021-12-31T22:25:24.662163",
     "exception": false,
     "start_time": "2021-12-31T22:25:24.638616",
     "status": "completed"
    },
    "tags": []
   },
   "source": [
    "## Step 1: Data Understanding\n",
    "- Dataframe `shape`\n",
    "- `head` and `tail`\n",
    "- `dtypes`\n",
    "- `describe`\n"
   ]
  },
  {
   "cell_type": "code",
   "execution_count": 3,
   "id": "aa4d87d1",
   "metadata": {
    "papermill": {
     "duration": 0.029721,
     "end_time": "2021-12-31T22:25:24.716333",
     "exception": false,
     "start_time": "2021-12-31T22:25:24.686612",
     "status": "completed"
    },
    "tags": []
   },
   "outputs": [
    {
     "data": {
      "text/plain": [
       "(8693, 14)"
      ]
     },
     "execution_count": 3,
     "metadata": {},
     "output_type": "execute_result"
    }
   ],
   "source": [
    "df.shape"
   ]
  },
  {
   "cell_type": "code",
   "execution_count": 4,
   "id": "b715dee1",
   "metadata": {
    "papermill": {
     "duration": 0.068471,
     "end_time": "2021-12-31T22:25:24.805357",
     "exception": false,
     "start_time": "2021-12-31T22:25:24.736886",
     "status": "completed"
    },
    "tags": []
   },
   "outputs": [
    {
     "data": {
      "text/html": [
       "<div>\n",
       "<style scoped>\n",
       "    .dataframe tbody tr th:only-of-type {\n",
       "        vertical-align: middle;\n",
       "    }\n",
       "\n",
       "    .dataframe tbody tr th {\n",
       "        vertical-align: top;\n",
       "    }\n",
       "\n",
       "    .dataframe thead th {\n",
       "        text-align: right;\n",
       "    }\n",
       "</style>\n",
       "<table border=\"1\" class=\"dataframe\">\n",
       "  <thead>\n",
       "    <tr style=\"text-align: right;\">\n",
       "      <th></th>\n",
       "      <th>PassengerId</th>\n",
       "      <th>HomePlanet</th>\n",
       "      <th>CryoSleep</th>\n",
       "      <th>Cabin</th>\n",
       "      <th>Destination</th>\n",
       "      <th>Age</th>\n",
       "      <th>VIP</th>\n",
       "      <th>RoomService</th>\n",
       "      <th>FoodCourt</th>\n",
       "      <th>ShoppingMall</th>\n",
       "      <th>Spa</th>\n",
       "      <th>VRDeck</th>\n",
       "      <th>Name</th>\n",
       "      <th>Transported</th>\n",
       "    </tr>\n",
       "  </thead>\n",
       "  <tbody>\n",
       "    <tr>\n",
       "      <th>0</th>\n",
       "      <td>0001_01</td>\n",
       "      <td>Europa</td>\n",
       "      <td>False</td>\n",
       "      <td>B/0/P</td>\n",
       "      <td>TRAPPIST-1e</td>\n",
       "      <td>39.0</td>\n",
       "      <td>False</td>\n",
       "      <td>0.0</td>\n",
       "      <td>0.0</td>\n",
       "      <td>0.0</td>\n",
       "      <td>0.0</td>\n",
       "      <td>0.0</td>\n",
       "      <td>Maham Ofracculy</td>\n",
       "      <td>False</td>\n",
       "    </tr>\n",
       "    <tr>\n",
       "      <th>1</th>\n",
       "      <td>0002_01</td>\n",
       "      <td>Earth</td>\n",
       "      <td>False</td>\n",
       "      <td>F/0/S</td>\n",
       "      <td>TRAPPIST-1e</td>\n",
       "      <td>24.0</td>\n",
       "      <td>False</td>\n",
       "      <td>109.0</td>\n",
       "      <td>9.0</td>\n",
       "      <td>25.0</td>\n",
       "      <td>549.0</td>\n",
       "      <td>44.0</td>\n",
       "      <td>Juanna Vines</td>\n",
       "      <td>True</td>\n",
       "    </tr>\n",
       "    <tr>\n",
       "      <th>2</th>\n",
       "      <td>0003_01</td>\n",
       "      <td>Europa</td>\n",
       "      <td>False</td>\n",
       "      <td>A/0/S</td>\n",
       "      <td>TRAPPIST-1e</td>\n",
       "      <td>58.0</td>\n",
       "      <td>True</td>\n",
       "      <td>43.0</td>\n",
       "      <td>3576.0</td>\n",
       "      <td>0.0</td>\n",
       "      <td>6715.0</td>\n",
       "      <td>49.0</td>\n",
       "      <td>Altark Susent</td>\n",
       "      <td>False</td>\n",
       "    </tr>\n",
       "    <tr>\n",
       "      <th>3</th>\n",
       "      <td>0003_02</td>\n",
       "      <td>Europa</td>\n",
       "      <td>False</td>\n",
       "      <td>A/0/S</td>\n",
       "      <td>TRAPPIST-1e</td>\n",
       "      <td>33.0</td>\n",
       "      <td>False</td>\n",
       "      <td>0.0</td>\n",
       "      <td>1283.0</td>\n",
       "      <td>371.0</td>\n",
       "      <td>3329.0</td>\n",
       "      <td>193.0</td>\n",
       "      <td>Solam Susent</td>\n",
       "      <td>False</td>\n",
       "    </tr>\n",
       "    <tr>\n",
       "      <th>4</th>\n",
       "      <td>0004_01</td>\n",
       "      <td>Earth</td>\n",
       "      <td>False</td>\n",
       "      <td>F/1/S</td>\n",
       "      <td>TRAPPIST-1e</td>\n",
       "      <td>16.0</td>\n",
       "      <td>False</td>\n",
       "      <td>303.0</td>\n",
       "      <td>70.0</td>\n",
       "      <td>151.0</td>\n",
       "      <td>565.0</td>\n",
       "      <td>2.0</td>\n",
       "      <td>Willy Santantines</td>\n",
       "      <td>True</td>\n",
       "    </tr>\n",
       "  </tbody>\n",
       "</table>\n",
       "</div>"
      ],
      "text/plain": [
       "  PassengerId HomePlanet CryoSleep  Cabin  Destination   Age    VIP  \\\n",
       "0     0001_01     Europa     False  B/0/P  TRAPPIST-1e  39.0  False   \n",
       "1     0002_01      Earth     False  F/0/S  TRAPPIST-1e  24.0  False   \n",
       "2     0003_01     Europa     False  A/0/S  TRAPPIST-1e  58.0   True   \n",
       "3     0003_02     Europa     False  A/0/S  TRAPPIST-1e  33.0  False   \n",
       "4     0004_01      Earth     False  F/1/S  TRAPPIST-1e  16.0  False   \n",
       "\n",
       "   RoomService  FoodCourt  ShoppingMall     Spa  VRDeck               Name  \\\n",
       "0          0.0        0.0           0.0     0.0     0.0    Maham Ofracculy   \n",
       "1        109.0        9.0          25.0   549.0    44.0       Juanna Vines   \n",
       "2         43.0     3576.0           0.0  6715.0    49.0      Altark Susent   \n",
       "3          0.0     1283.0         371.0  3329.0   193.0       Solam Susent   \n",
       "4        303.0       70.0         151.0   565.0     2.0  Willy Santantines   \n",
       "\n",
       "   Transported  \n",
       "0        False  \n",
       "1         True  \n",
       "2        False  \n",
       "3        False  \n",
       "4         True  "
      ]
     },
     "execution_count": 4,
     "metadata": {},
     "output_type": "execute_result"
    }
   ],
   "source": [
    "df.head(5)"
   ]
  },
  {
   "cell_type": "code",
   "execution_count": 5,
   "id": "17f9e607",
   "metadata": {
    "papermill": {
     "duration": 0.028414,
     "end_time": "2021-12-31T22:25:24.854178",
     "exception": false,
     "start_time": "2021-12-31T22:25:24.825764",
     "status": "completed"
    },
    "tags": []
   },
   "outputs": [
    {
     "data": {
      "text/plain": [
       "Index(['PassengerId', 'HomePlanet', 'CryoSleep', 'Cabin', 'Destination', 'Age',\n",
       "       'VIP', 'RoomService', 'FoodCourt', 'ShoppingMall', 'Spa', 'VRDeck',\n",
       "       'Name', 'Transported'],\n",
       "      dtype='object')"
      ]
     },
     "execution_count": 5,
     "metadata": {},
     "output_type": "execute_result"
    }
   ],
   "source": [
    "df.columns"
   ]
  },
  {
   "cell_type": "code",
   "execution_count": 6,
   "id": "1e2c996e",
   "metadata": {
    "papermill": {
     "duration": 0.030131,
     "end_time": "2021-12-31T22:25:24.904578",
     "exception": false,
     "start_time": "2021-12-31T22:25:24.874447",
     "status": "completed"
    },
    "tags": []
   },
   "outputs": [
    {
     "data": {
      "text/plain": [
       "PassengerId      object\n",
       "HomePlanet       object\n",
       "CryoSleep        object\n",
       "Cabin            object\n",
       "Destination      object\n",
       "Age             float64\n",
       "VIP              object\n",
       "RoomService     float64\n",
       "FoodCourt       float64\n",
       "ShoppingMall    float64\n",
       "Spa             float64\n",
       "VRDeck          float64\n",
       "Name             object\n",
       "Transported        bool\n",
       "dtype: object"
      ]
     },
     "execution_count": 6,
     "metadata": {},
     "output_type": "execute_result"
    }
   ],
   "source": [
    "df.dtypes"
   ]
  },
  {
   "cell_type": "code",
   "execution_count": 7,
   "id": "72643f56",
   "metadata": {
    "papermill": {
     "duration": 0.065671,
     "end_time": "2021-12-31T22:25:24.991200",
     "exception": false,
     "start_time": "2021-12-31T22:25:24.925529",
     "status": "completed"
    },
    "tags": []
   },
   "outputs": [
    {
     "data": {
      "text/html": [
       "<div>\n",
       "<style scoped>\n",
       "    .dataframe tbody tr th:only-of-type {\n",
       "        vertical-align: middle;\n",
       "    }\n",
       "\n",
       "    .dataframe tbody tr th {\n",
       "        vertical-align: top;\n",
       "    }\n",
       "\n",
       "    .dataframe thead th {\n",
       "        text-align: right;\n",
       "    }\n",
       "</style>\n",
       "<table border=\"1\" class=\"dataframe\">\n",
       "  <thead>\n",
       "    <tr style=\"text-align: right;\">\n",
       "      <th></th>\n",
       "      <th>Age</th>\n",
       "      <th>RoomService</th>\n",
       "      <th>FoodCourt</th>\n",
       "      <th>ShoppingMall</th>\n",
       "      <th>Spa</th>\n",
       "      <th>VRDeck</th>\n",
       "    </tr>\n",
       "  </thead>\n",
       "  <tbody>\n",
       "    <tr>\n",
       "      <th>count</th>\n",
       "      <td>8514.000000</td>\n",
       "      <td>8512.000000</td>\n",
       "      <td>8510.000000</td>\n",
       "      <td>8485.000000</td>\n",
       "      <td>8510.000000</td>\n",
       "      <td>8505.000000</td>\n",
       "    </tr>\n",
       "    <tr>\n",
       "      <th>mean</th>\n",
       "      <td>28.827930</td>\n",
       "      <td>224.687617</td>\n",
       "      <td>458.077203</td>\n",
       "      <td>173.729169</td>\n",
       "      <td>311.138778</td>\n",
       "      <td>304.854791</td>\n",
       "    </tr>\n",
       "    <tr>\n",
       "      <th>std</th>\n",
       "      <td>14.489021</td>\n",
       "      <td>666.717663</td>\n",
       "      <td>1611.489240</td>\n",
       "      <td>604.696458</td>\n",
       "      <td>1136.705535</td>\n",
       "      <td>1145.717189</td>\n",
       "    </tr>\n",
       "    <tr>\n",
       "      <th>min</th>\n",
       "      <td>0.000000</td>\n",
       "      <td>0.000000</td>\n",
       "      <td>0.000000</td>\n",
       "      <td>0.000000</td>\n",
       "      <td>0.000000</td>\n",
       "      <td>0.000000</td>\n",
       "    </tr>\n",
       "    <tr>\n",
       "      <th>25%</th>\n",
       "      <td>19.000000</td>\n",
       "      <td>0.000000</td>\n",
       "      <td>0.000000</td>\n",
       "      <td>0.000000</td>\n",
       "      <td>0.000000</td>\n",
       "      <td>0.000000</td>\n",
       "    </tr>\n",
       "    <tr>\n",
       "      <th>50%</th>\n",
       "      <td>27.000000</td>\n",
       "      <td>0.000000</td>\n",
       "      <td>0.000000</td>\n",
       "      <td>0.000000</td>\n",
       "      <td>0.000000</td>\n",
       "      <td>0.000000</td>\n",
       "    </tr>\n",
       "    <tr>\n",
       "      <th>75%</th>\n",
       "      <td>38.000000</td>\n",
       "      <td>47.000000</td>\n",
       "      <td>76.000000</td>\n",
       "      <td>27.000000</td>\n",
       "      <td>59.000000</td>\n",
       "      <td>46.000000</td>\n",
       "    </tr>\n",
       "    <tr>\n",
       "      <th>max</th>\n",
       "      <td>79.000000</td>\n",
       "      <td>14327.000000</td>\n",
       "      <td>29813.000000</td>\n",
       "      <td>23492.000000</td>\n",
       "      <td>22408.000000</td>\n",
       "      <td>24133.000000</td>\n",
       "    </tr>\n",
       "  </tbody>\n",
       "</table>\n",
       "</div>"
      ],
      "text/plain": [
       "               Age   RoomService     FoodCourt  ShoppingMall           Spa  \\\n",
       "count  8514.000000   8512.000000   8510.000000   8485.000000   8510.000000   \n",
       "mean     28.827930    224.687617    458.077203    173.729169    311.138778   \n",
       "std      14.489021    666.717663   1611.489240    604.696458   1136.705535   \n",
       "min       0.000000      0.000000      0.000000      0.000000      0.000000   \n",
       "25%      19.000000      0.000000      0.000000      0.000000      0.000000   \n",
       "50%      27.000000      0.000000      0.000000      0.000000      0.000000   \n",
       "75%      38.000000     47.000000     76.000000     27.000000     59.000000   \n",
       "max      79.000000  14327.000000  29813.000000  23492.000000  22408.000000   \n",
       "\n",
       "             VRDeck  \n",
       "count   8505.000000  \n",
       "mean     304.854791  \n",
       "std     1145.717189  \n",
       "min        0.000000  \n",
       "25%        0.000000  \n",
       "50%        0.000000  \n",
       "75%       46.000000  \n",
       "max    24133.000000  "
      ]
     },
     "execution_count": 7,
     "metadata": {},
     "output_type": "execute_result"
    }
   ],
   "source": [
    "df.describe()"
   ]
  },
  {
   "cell_type": "markdown",
   "id": "b1bd6b43",
   "metadata": {
    "papermill": {
     "duration": 0.021459,
     "end_time": "2021-12-31T22:25:25.034364",
     "exception": false,
     "start_time": "2021-12-31T22:25:25.012905",
     "status": "completed"
    },
    "tags": []
   },
   "source": [
    "# Step 2: Data Preperation\n",
    "- Dropping irrelevant columns and rows\n",
    "- Identifying duplicated columns\n",
    "- Renaming Columns\n",
    "- Feature Creation"
   ]
  },
  {
   "cell_type": "code",
   "execution_count": 74,
   "id": "a3b809e9-800a-4f67-802a-1c779f4f14fa",
   "metadata": {},
   "outputs": [],
   "source": [
    "df = df.dropna()"
   ]
  },
  {
   "cell_type": "code",
   "execution_count": 76,
   "id": "1789b2eb-4420-4810-adb5-4159a3f12b6a",
   "metadata": {},
   "outputs": [
    {
     "name": "stderr",
     "output_type": "stream",
     "text": [
      "/var/folders/1j/x7vjwktn1l37ggq8qzq4phyw0000gn/T/ipykernel_44487/3295489546.py:4: FutureWarning: Downcasting behavior in `replace` is deprecated and will be removed in a future version. To retain the old behavior, explicitly call `result.infer_objects(copy=False)`. To opt-in to the future behavior, set `pd.set_option('future.no_silent_downcasting', True)`\n",
      "  df['HomePlanetID'] = df['HomePlanet'].astype(object).replace({'Earth': 1, 'Mars': 2, 'Europa': 3})\n"
     ]
    }
   ],
   "source": [
    "# Split the column into two new columns\n",
    "df[['Group', 'ID']] = df['PassengerId'].str.split('_', expand=True)\n",
    "\n",
    "df['HomePlanetID'] = df['HomePlanet'].astype(object).replace({'Earth': 1, 'Mars': 2, 'Europa': 3})\n",
    "\n",
    "df['CabinID'] = pd.factorize(df['Cabin'])[0]  # factorize returns (array of IDs, unique values)\n",
    "\n",
    "df['DestinationID'] = pd.factorize(df['Destination'])[0]  # factorize returns (array of IDs, unique values)\n"
   ]
  },
  {
   "cell_type": "code",
   "execution_count": 78,
   "id": "ea946454-fccb-4f25-b94e-15d585391594",
   "metadata": {},
   "outputs": [],
   "source": [
    "df_filtered = df.select_dtypes(include=['number', 'bool'])"
   ]
  },
  {
   "cell_type": "code",
   "execution_count": 79,
   "id": "e068cc2a",
   "metadata": {
    "papermill": {
     "duration": 0.03178,
     "end_time": "2021-12-31T22:25:25.312501",
     "exception": false,
     "start_time": "2021-12-31T22:25:25.280721",
     "status": "completed"
    },
    "tags": []
   },
   "outputs": [
    {
     "data": {
      "text/plain": [
       "Age              0\n",
       "RoomService      0\n",
       "FoodCourt        0\n",
       "ShoppingMall     0\n",
       "Spa              0\n",
       "VRDeck           0\n",
       "Transported      0\n",
       "CabinID          0\n",
       "HomePlanetID     0\n",
       "DestinationID    0\n",
       "dtype: int64"
      ]
     },
     "execution_count": 79,
     "metadata": {},
     "output_type": "execute_result"
    }
   ],
   "source": [
    "df_filtered.isna().sum()"
   ]
  },
  {
   "cell_type": "code",
   "execution_count": 80,
   "id": "d0ce3da2-1de6-49c1-8fc8-2e98e753a196",
   "metadata": {},
   "outputs": [
    {
     "name": "stdout",
     "output_type": "stream",
     "text": [
      "Home planets: 3\n",
      "Cabins: 5305\n",
      "Destinations: 3\n"
     ]
    }
   ],
   "source": [
    "# Unique values\n",
    "print('Home planets:', df['HomePlanet'].nunique())\n",
    "print('Cabins:', df['CabinID'].nunique())\n",
    "print('Destinations:', df['Destination'].nunique())"
   ]
  },
  {
   "cell_type": "code",
   "execution_count": 81,
   "id": "dc67389f",
   "metadata": {
    "papermill": {
     "duration": 0.040619,
     "end_time": "2021-12-31T22:25:25.499081",
     "exception": false,
     "start_time": "2021-12-31T22:25:25.458462",
     "status": "completed"
    },
    "tags": []
   },
   "outputs": [
    {
     "data": {
      "text/html": [
       "<div>\n",
       "<style scoped>\n",
       "    .dataframe tbody tr th:only-of-type {\n",
       "        vertical-align: middle;\n",
       "    }\n",
       "\n",
       "    .dataframe tbody tr th {\n",
       "        vertical-align: top;\n",
       "    }\n",
       "\n",
       "    .dataframe thead th {\n",
       "        text-align: right;\n",
       "    }\n",
       "</style>\n",
       "<table border=\"1\" class=\"dataframe\">\n",
       "  <thead>\n",
       "    <tr style=\"text-align: right;\">\n",
       "      <th></th>\n",
       "      <th>PassengerId</th>\n",
       "      <th>HomePlanet</th>\n",
       "      <th>CryoSleep</th>\n",
       "      <th>Cabin</th>\n",
       "      <th>Destination</th>\n",
       "      <th>Age</th>\n",
       "      <th>VIP</th>\n",
       "      <th>RoomService</th>\n",
       "      <th>FoodCourt</th>\n",
       "      <th>ShoppingMall</th>\n",
       "      <th>Spa</th>\n",
       "      <th>VRDeck</th>\n",
       "      <th>Name</th>\n",
       "      <th>Transported</th>\n",
       "      <th>Group</th>\n",
       "      <th>ID</th>\n",
       "      <th>CabinID</th>\n",
       "      <th>HomePlanetID</th>\n",
       "      <th>DestinationID</th>\n",
       "    </tr>\n",
       "  </thead>\n",
       "  <tbody>\n",
       "    <tr>\n",
       "      <th>1</th>\n",
       "      <td>0002_01</td>\n",
       "      <td>Earth</td>\n",
       "      <td>False</td>\n",
       "      <td>F/0/S</td>\n",
       "      <td>TRAPPIST-1e</td>\n",
       "      <td>24.0</td>\n",
       "      <td>False</td>\n",
       "      <td>109.0</td>\n",
       "      <td>9.0</td>\n",
       "      <td>25.0</td>\n",
       "      <td>549.0</td>\n",
       "      <td>44.0</td>\n",
       "      <td>Juanna Vines</td>\n",
       "      <td>True</td>\n",
       "      <td>0002</td>\n",
       "      <td>01</td>\n",
       "      <td>1</td>\n",
       "      <td>1</td>\n",
       "      <td>0</td>\n",
       "    </tr>\n",
       "    <tr>\n",
       "      <th>4</th>\n",
       "      <td>0004_01</td>\n",
       "      <td>Earth</td>\n",
       "      <td>False</td>\n",
       "      <td>F/1/S</td>\n",
       "      <td>TRAPPIST-1e</td>\n",
       "      <td>16.0</td>\n",
       "      <td>False</td>\n",
       "      <td>303.0</td>\n",
       "      <td>70.0</td>\n",
       "      <td>151.0</td>\n",
       "      <td>565.0</td>\n",
       "      <td>2.0</td>\n",
       "      <td>Willy Santantines</td>\n",
       "      <td>True</td>\n",
       "      <td>0004</td>\n",
       "      <td>01</td>\n",
       "      <td>3</td>\n",
       "      <td>1</td>\n",
       "      <td>0</td>\n",
       "    </tr>\n",
       "    <tr>\n",
       "      <th>5</th>\n",
       "      <td>0005_01</td>\n",
       "      <td>Earth</td>\n",
       "      <td>False</td>\n",
       "      <td>F/0/P</td>\n",
       "      <td>PSO J318.5-22</td>\n",
       "      <td>44.0</td>\n",
       "      <td>False</td>\n",
       "      <td>0.0</td>\n",
       "      <td>483.0</td>\n",
       "      <td>0.0</td>\n",
       "      <td>291.0</td>\n",
       "      <td>0.0</td>\n",
       "      <td>Sandie Hinetthews</td>\n",
       "      <td>True</td>\n",
       "      <td>0005</td>\n",
       "      <td>01</td>\n",
       "      <td>4</td>\n",
       "      <td>1</td>\n",
       "      <td>1</td>\n",
       "    </tr>\n",
       "    <tr>\n",
       "      <th>6</th>\n",
       "      <td>0006_01</td>\n",
       "      <td>Earth</td>\n",
       "      <td>False</td>\n",
       "      <td>F/2/S</td>\n",
       "      <td>TRAPPIST-1e</td>\n",
       "      <td>26.0</td>\n",
       "      <td>False</td>\n",
       "      <td>42.0</td>\n",
       "      <td>1539.0</td>\n",
       "      <td>3.0</td>\n",
       "      <td>0.0</td>\n",
       "      <td>0.0</td>\n",
       "      <td>Billex Jacostaffey</td>\n",
       "      <td>True</td>\n",
       "      <td>0006</td>\n",
       "      <td>01</td>\n",
       "      <td>5</td>\n",
       "      <td>1</td>\n",
       "      <td>0</td>\n",
       "    </tr>\n",
       "    <tr>\n",
       "      <th>8</th>\n",
       "      <td>0007_01</td>\n",
       "      <td>Earth</td>\n",
       "      <td>False</td>\n",
       "      <td>F/3/S</td>\n",
       "      <td>TRAPPIST-1e</td>\n",
       "      <td>35.0</td>\n",
       "      <td>False</td>\n",
       "      <td>0.0</td>\n",
       "      <td>785.0</td>\n",
       "      <td>17.0</td>\n",
       "      <td>216.0</td>\n",
       "      <td>0.0</td>\n",
       "      <td>Andona Beston</td>\n",
       "      <td>True</td>\n",
       "      <td>0007</td>\n",
       "      <td>01</td>\n",
       "      <td>6</td>\n",
       "      <td>1</td>\n",
       "      <td>0</td>\n",
       "    </tr>\n",
       "    <tr>\n",
       "      <th>...</th>\n",
       "      <td>...</td>\n",
       "      <td>...</td>\n",
       "      <td>...</td>\n",
       "      <td>...</td>\n",
       "      <td>...</td>\n",
       "      <td>...</td>\n",
       "      <td>...</td>\n",
       "      <td>...</td>\n",
       "      <td>...</td>\n",
       "      <td>...</td>\n",
       "      <td>...</td>\n",
       "      <td>...</td>\n",
       "      <td>...</td>\n",
       "      <td>...</td>\n",
       "      <td>...</td>\n",
       "      <td>...</td>\n",
       "      <td>...</td>\n",
       "      <td>...</td>\n",
       "      <td>...</td>\n",
       "    </tr>\n",
       "    <tr>\n",
       "      <th>8681</th>\n",
       "      <td>9270_01</td>\n",
       "      <td>Earth</td>\n",
       "      <td>True</td>\n",
       "      <td>G/1497/S</td>\n",
       "      <td>55 Cancri e</td>\n",
       "      <td>33.0</td>\n",
       "      <td>False</td>\n",
       "      <td>0.0</td>\n",
       "      <td>0.0</td>\n",
       "      <td>0.0</td>\n",
       "      <td>0.0</td>\n",
       "      <td>0.0</td>\n",
       "      <td>Lan Mckinsond</td>\n",
       "      <td>True</td>\n",
       "      <td>9270</td>\n",
       "      <td>01</td>\n",
       "      <td>5297</td>\n",
       "      <td>1</td>\n",
       "      <td>2</td>\n",
       "    </tr>\n",
       "    <tr>\n",
       "      <th>8682</th>\n",
       "      <td>9272_01</td>\n",
       "      <td>Earth</td>\n",
       "      <td>False</td>\n",
       "      <td>G/1507/P</td>\n",
       "      <td>TRAPPIST-1e</td>\n",
       "      <td>26.0</td>\n",
       "      <td>False</td>\n",
       "      <td>240.0</td>\n",
       "      <td>242.0</td>\n",
       "      <td>510.0</td>\n",
       "      <td>0.0</td>\n",
       "      <td>0.0</td>\n",
       "      <td>Ireene Simson</td>\n",
       "      <td>True</td>\n",
       "      <td>9272</td>\n",
       "      <td>01</td>\n",
       "      <td>5298</td>\n",
       "      <td>1</td>\n",
       "      <td>0</td>\n",
       "    </tr>\n",
       "    <tr>\n",
       "      <th>8683</th>\n",
       "      <td>9272_02</td>\n",
       "      <td>Earth</td>\n",
       "      <td>False</td>\n",
       "      <td>F/1894/P</td>\n",
       "      <td>TRAPPIST-1e</td>\n",
       "      <td>21.0</td>\n",
       "      <td>False</td>\n",
       "      <td>86.0</td>\n",
       "      <td>3.0</td>\n",
       "      <td>149.0</td>\n",
       "      <td>208.0</td>\n",
       "      <td>329.0</td>\n",
       "      <td>Gordo Simson</td>\n",
       "      <td>False</td>\n",
       "      <td>9272</td>\n",
       "      <td>02</td>\n",
       "      <td>5299</td>\n",
       "      <td>1</td>\n",
       "      <td>0</td>\n",
       "    </tr>\n",
       "    <tr>\n",
       "      <th>8689</th>\n",
       "      <td>9278_01</td>\n",
       "      <td>Earth</td>\n",
       "      <td>True</td>\n",
       "      <td>G/1499/S</td>\n",
       "      <td>PSO J318.5-22</td>\n",
       "      <td>18.0</td>\n",
       "      <td>False</td>\n",
       "      <td>0.0</td>\n",
       "      <td>0.0</td>\n",
       "      <td>0.0</td>\n",
       "      <td>0.0</td>\n",
       "      <td>0.0</td>\n",
       "      <td>Kurta Mondalley</td>\n",
       "      <td>False</td>\n",
       "      <td>9278</td>\n",
       "      <td>01</td>\n",
       "      <td>5302</td>\n",
       "      <td>1</td>\n",
       "      <td>1</td>\n",
       "    </tr>\n",
       "    <tr>\n",
       "      <th>8690</th>\n",
       "      <td>9279_01</td>\n",
       "      <td>Earth</td>\n",
       "      <td>False</td>\n",
       "      <td>G/1500/S</td>\n",
       "      <td>TRAPPIST-1e</td>\n",
       "      <td>26.0</td>\n",
       "      <td>False</td>\n",
       "      <td>0.0</td>\n",
       "      <td>0.0</td>\n",
       "      <td>1872.0</td>\n",
       "      <td>1.0</td>\n",
       "      <td>0.0</td>\n",
       "      <td>Fayey Connon</td>\n",
       "      <td>True</td>\n",
       "      <td>9279</td>\n",
       "      <td>01</td>\n",
       "      <td>5303</td>\n",
       "      <td>1</td>\n",
       "      <td>0</td>\n",
       "    </tr>\n",
       "  </tbody>\n",
       "</table>\n",
       "<p>3566 rows × 19 columns</p>\n",
       "</div>"
      ],
      "text/plain": [
       "     PassengerId HomePlanet CryoSleep     Cabin    Destination   Age    VIP  \\\n",
       "1        0002_01      Earth     False     F/0/S    TRAPPIST-1e  24.0  False   \n",
       "4        0004_01      Earth     False     F/1/S    TRAPPIST-1e  16.0  False   \n",
       "5        0005_01      Earth     False     F/0/P  PSO J318.5-22  44.0  False   \n",
       "6        0006_01      Earth     False     F/2/S    TRAPPIST-1e  26.0  False   \n",
       "8        0007_01      Earth     False     F/3/S    TRAPPIST-1e  35.0  False   \n",
       "...          ...        ...       ...       ...            ...   ...    ...   \n",
       "8681     9270_01      Earth      True  G/1497/S    55 Cancri e  33.0  False   \n",
       "8682     9272_01      Earth     False  G/1507/P    TRAPPIST-1e  26.0  False   \n",
       "8683     9272_02      Earth     False  F/1894/P    TRAPPIST-1e  21.0  False   \n",
       "8689     9278_01      Earth      True  G/1499/S  PSO J318.5-22  18.0  False   \n",
       "8690     9279_01      Earth     False  G/1500/S    TRAPPIST-1e  26.0  False   \n",
       "\n",
       "      RoomService  FoodCourt  ShoppingMall    Spa  VRDeck                Name  \\\n",
       "1           109.0        9.0          25.0  549.0    44.0        Juanna Vines   \n",
       "4           303.0       70.0         151.0  565.0     2.0   Willy Santantines   \n",
       "5             0.0      483.0           0.0  291.0     0.0   Sandie Hinetthews   \n",
       "6            42.0     1539.0           3.0    0.0     0.0  Billex Jacostaffey   \n",
       "8             0.0      785.0          17.0  216.0     0.0       Andona Beston   \n",
       "...           ...        ...           ...    ...     ...                 ...   \n",
       "8681          0.0        0.0           0.0    0.0     0.0       Lan Mckinsond   \n",
       "8682        240.0      242.0         510.0    0.0     0.0       Ireene Simson   \n",
       "8683         86.0        3.0         149.0  208.0   329.0        Gordo Simson   \n",
       "8689          0.0        0.0           0.0    0.0     0.0     Kurta Mondalley   \n",
       "8690          0.0        0.0        1872.0    1.0     0.0        Fayey Connon   \n",
       "\n",
       "      Transported Group  ID  CabinID  HomePlanetID  DestinationID  \n",
       "1            True  0002  01        1             1              0  \n",
       "4            True  0004  01        3             1              0  \n",
       "5            True  0005  01        4             1              1  \n",
       "6            True  0006  01        5             1              0  \n",
       "8            True  0007  01        6             1              0  \n",
       "...           ...   ...  ..      ...           ...            ...  \n",
       "8681         True  9270  01     5297             1              2  \n",
       "8682         True  9272  01     5298             1              0  \n",
       "8683        False  9272  02     5299             1              0  \n",
       "8689        False  9278  01     5302             1              1  \n",
       "8690         True  9279  01     5303             1              0  \n",
       "\n",
       "[3566 rows x 19 columns]"
      ]
     },
     "execution_count": 81,
     "metadata": {},
     "output_type": "execute_result"
    }
   ],
   "source": [
    "# Checking an example duplicate\n",
    "df.query('HomePlanetID == 1.0')"
   ]
  },
  {
   "cell_type": "code",
   "execution_count": 141,
   "id": "be1ed022",
   "metadata": {
    "papermill": {
     "duration": 0.030624,
     "end_time": "2021-12-31T22:25:25.552360",
     "exception": false,
     "start_time": "2021-12-31T22:25:25.521736",
     "status": "completed"
    },
    "tags": []
   },
   "outputs": [
    {
     "data": {
      "text/plain": [
       "Index(['HomePlanet', 'CryoSleep', 'Cabin', 'Destination', 'Age', 'VIP',\n",
       "       'RoomService', 'FoodCourt', 'ShoppingMall', 'Spa', 'VRDeck', 'Name',\n",
       "       'Transported', 'Group', 'ID', 'CabinID'],\n",
       "      dtype='object')"
      ]
     },
     "execution_count": 141,
     "metadata": {},
     "output_type": "execute_result"
    }
   ],
   "source": [
    "df.columns"
   ]
  },
  {
   "cell_type": "code",
   "execution_count": 17,
   "id": "d033284f",
   "metadata": {
    "execution": {
     "iopub.execute_input": "2021-12-31T22:25:25.603179Z",
     "iopub.status.busy": "2021-12-31T22:25:25.602516Z",
     "iopub.status.idle": "2021-12-31T22:25:25.606940Z",
     "shell.execute_reply": "2021-12-31T22:25:25.607364Z",
     "shell.execute_reply.started": "2021-12-31T19:13:58.914669Z"
    },
    "papermill": {
     "duration": 0.032432,
     "end_time": "2021-12-31T22:25:25.607520",
     "exception": false,
     "start_time": "2021-12-31T22:25:25.575088",
     "status": "completed"
    },
    "tags": []
   },
   "outputs": [],
   "source": [
    "df = df.loc[~df.duplicated(subset=['Coaster_Name','Location','Opening_Date'])] \\\n",
    "    .reset_index(drop=True).copy()"
   ]
  },
  {
   "cell_type": "markdown",
   "id": "53326621",
   "metadata": {
    "papermill": {
     "duration": 0.022479,
     "end_time": "2021-12-31T22:25:25.653469",
     "exception": false,
     "start_time": "2021-12-31T22:25:25.630990",
     "status": "completed"
    },
    "tags": []
   },
   "source": [
    "# Step 3: Feature Understanding\n",
    "(Univariate analysis)\n",
    "\n",
    "- Plotting Feature Distributions\n",
    "    - Histogram\n",
    "    - KDE\n",
    "    - Boxplot"
   ]
  },
  {
   "cell_type": "code",
   "execution_count": 21,
   "id": "1cf49ef5",
   "metadata": {
    "papermill": {
     "duration": 0.03309,
     "end_time": "2021-12-31T22:25:25.709352",
     "exception": false,
     "start_time": "2021-12-31T22:25:25.676262",
     "status": "completed"
    },
    "tags": []
   },
   "outputs": [
    {
     "data": {
      "text/plain": [
       "HomePlanet\n",
       "Earth     4602\n",
       "Europa    2131\n",
       "Mars      1759\n",
       "Name: count, dtype: int64"
      ]
     },
     "execution_count": 21,
     "metadata": {},
     "output_type": "execute_result"
    }
   ],
   "source": [
    "df['HomePlanet'].value_counts()"
   ]
  },
  {
   "cell_type": "code",
   "execution_count": 26,
   "id": "60ac9c37",
   "metadata": {
    "papermill": {
     "duration": 0.283261,
     "end_time": "2021-12-31T22:25:26.016166",
     "exception": false,
     "start_time": "2021-12-31T22:25:25.732905",
     "status": "completed"
    },
    "tags": []
   },
   "outputs": [
    {
     "data": {
      "text/plain": [
       "Text(0, 0.5, 'Count')"
      ]
     },
     "execution_count": 26,
     "metadata": {},
     "output_type": "execute_result"
    },
    {
     "data": {
      "image/png": "[encoded data removed]",
      "text/plain": [
       "<Figure size 640x480 with 1 Axes>"
      ]
     },
     "metadata": {},
     "output_type": "display_data"
    }
   ],
   "source": [
    "ax = df['HomePlanet'].value_counts() \\\n",
    "    .head(10) \\\n",
    "    .plot(kind='bar', title='HomePlanets')\n",
    "ax.set_xlabel('Planet')\n",
    "ax.set_ylabel('Count')"
   ]
  },
  {
   "cell_type": "code",
   "execution_count": 28,
   "id": "e6967adb",
   "metadata": {
    "papermill": {
     "duration": 0.199427,
     "end_time": "2021-12-31T22:25:26.559519",
     "exception": false,
     "start_time": "2021-12-31T22:25:26.360092",
     "status": "completed"
    },
    "tags": []
   },
   "outputs": [
    {
     "data": {
      "text/plain": [
       "Text(0.5, 0, 'Age')"
      ]
     },
     "execution_count": 28,
     "metadata": {},
     "output_type": "execute_result"
    },
    {
     "data": {
      "image/png": "[encoded data removed]",
      "text/plain": [
       "<Figure size 640x480 with 1 Axes>"
      ]
     },
     "metadata": {},
     "output_type": "display_data"
    }
   ],
   "source": [
    "ax = df['Age'].plot(kind='kde',\n",
    "                          title='Ages')\n",
    "ax.set_xlabel('Age')"
   ]
  },
  {
   "cell_type": "markdown",
   "id": "b06ae53c",
   "metadata": {
    "papermill": {
     "duration": 0.025998,
     "end_time": "2021-12-31T22:25:26.675088",
     "exception": false,
     "start_time": "2021-12-31T22:25:26.649090",
     "status": "completed"
    },
    "tags": []
   },
   "source": [
    "# Step 4: Feature Relationships\n",
    "- Scatterplot\n",
    "- Heatmap Correlation\n",
    "- Pairplot\n",
    "- Groupby comparisons"
   ]
  },
  {
   "cell_type": "code",
   "execution_count": 29,
   "id": "c92cc123-c2c1-4362-9bdc-682dfe1518bf",
   "metadata": {},
   "outputs": [
    {
     "data": {
      "text/plain": [
       "Index(['PassengerId', 'HomePlanet', 'CryoSleep', 'Cabin', 'Destination', 'Age',\n",
       "       'VIP', 'RoomService', 'FoodCourt', 'ShoppingMall', 'Spa', 'VRDeck',\n",
       "       'Name', 'Transported', 'Group', 'ID', 'HomePlanetId', 'CabinID'],\n",
       "      dtype='object')"
      ]
     },
     "execution_count": 29,
     "metadata": {},
     "output_type": "execute_result"
    }
   ],
   "source": [
    "df.columns"
   ]
  },
  {
   "cell_type": "code",
   "execution_count": 30,
   "id": "017fd725",
   "metadata": {
    "papermill": {
     "duration": 0.183301,
     "end_time": "2021-12-31T22:25:26.884625",
     "exception": false,
     "start_time": "2021-12-31T22:25:26.701324",
     "status": "completed"
    },
    "tags": []
   },
   "outputs": [
    {
     "data": {
      "image/png": "[encoded data removed]",
      "text/plain": [
       "<Figure size 640x480 with 1 Axes>"
      ]
     },
     "metadata": {},
     "output_type": "display_data"
    }
   ],
   "source": [
    "df.plot(kind='scatter',\n",
    "        x='Spa',\n",
    "        y='ShoppingMall',\n",
    "        title='')\n",
    "plt.show()"
   ]
  },
  {
   "cell_type": "code",
   "execution_count": 32,
   "id": "b3ff4047",
   "metadata": {
    "papermill": {
     "duration": 0.295762,
     "end_time": "2021-12-31T22:25:27.208343",
     "exception": false,
     "start_time": "2021-12-31T22:25:26.912581",
     "status": "completed"
    },
    "tags": []
   },
   "outputs": [
    {
     "data": {
      "image/png": "[encoded data removed]",
      "text/plain": [
       "<Figure size 640x480 with 1 Axes>"
      ]
     },
     "metadata": {},
     "output_type": "display_data"
    }
   ],
   "source": [
    "ax = sns.scatterplot(x='Spa',\n",
    "                y='RoomService',\n",
    "                hue='Age',\n",
    "                data=df)\n",
    "plt.show()"
   ]
  },
  {
   "cell_type": "code",
   "execution_count": 82,
   "id": "4a72263c",
   "metadata": {
    "papermill": {
     "duration": 6.429785,
     "end_time": "2021-12-31T22:25:33.666958",
     "exception": false,
     "start_time": "2021-12-31T22:25:27.237173",
     "status": "completed"
    },
    "tags": []
   },
   "outputs": [
    {
     "ename": "TypeError",
     "evalue": "The x variable is categorical, but one of ['numeric', 'datetime'] is required",
     "output_type": "error",
     "traceback": [
      "\u001b[0;31m---------------------------------------------------------------------------\u001b[0m",
      "\u001b[0;31mTypeError\u001b[0m                                 Traceback (most recent call last)",
      "Cell \u001b[0;32mIn[82], line 1\u001b[0m\n\u001b[0;32m----> 1\u001b[0m \u001b[43msns\u001b[49m\u001b[38;5;241;43m.\u001b[39;49m\u001b[43mpairplot\u001b[49m\u001b[43m(\u001b[49m\u001b[43mdf\u001b[49m\u001b[43m,\u001b[49m\n\u001b[1;32m      2\u001b[0m \u001b[43m             \u001b[49m\u001b[38;5;28;43mvars\u001b[39;49m\u001b[38;5;241;43m=\u001b[39;49m\u001b[43m[\u001b[49m\u001b[38;5;124;43m'\u001b[39;49m\u001b[38;5;124;43mSpa\u001b[39;49m\u001b[38;5;124;43m'\u001b[39;49m\u001b[43m,\u001b[49m\n\u001b[1;32m      3\u001b[0m \u001b[43m                   \u001b[49m\u001b[38;5;124;43m'\u001b[39;49m\u001b[38;5;124;43mRoomService\u001b[39;49m\u001b[38;5;124;43m'\u001b[39;49m\u001b[43m,\u001b[49m\n\u001b[1;32m      4\u001b[0m \u001b[43m                   \u001b[49m\u001b[38;5;124;43m'\u001b[39;49m\u001b[38;5;124;43mFoodCourt\u001b[39;49m\u001b[38;5;124;43m'\u001b[39;49m\u001b[43m,\u001b[49m\n\u001b[1;32m      5\u001b[0m \u001b[43m                   \u001b[49m\u001b[38;5;124;43m'\u001b[39;49m\u001b[38;5;124;43mShoppingMall\u001b[39;49m\u001b[38;5;124;43m'\u001b[39;49m\u001b[43m,\u001b[49m\n\u001b[1;32m      6\u001b[0m \u001b[43m                   \u001b[49m\u001b[38;5;124;43m'\u001b[39;49m\u001b[38;5;124;43mVRDeck\u001b[39;49m\u001b[38;5;124;43m'\u001b[39;49m\u001b[43m,\u001b[49m\n\u001b[1;32m      7\u001b[0m \u001b[43m                   \u001b[49m\u001b[38;5;124;43m'\u001b[39;49m\u001b[38;5;124;43mHomePlanet\u001b[39;49m\u001b[38;5;124;43m'\u001b[39;49m\u001b[43m]\u001b[49m\u001b[43m,\u001b[49m\n\u001b[1;32m      8\u001b[0m \u001b[43m            \u001b[49m\u001b[43mhue\u001b[49m\u001b[38;5;241;43m=\u001b[39;49m\u001b[38;5;124;43m'\u001b[39;49m\u001b[38;5;124;43mTransported\u001b[39;49m\u001b[38;5;124;43m'\u001b[39;49m\u001b[43m)\u001b[49m\n\u001b[1;32m      9\u001b[0m plt\u001b[38;5;241m.\u001b[39mshow()\n",
      "File \u001b[0;32m/opt/homebrew/Caskroom/miniconda/base/lib/python3.12/site-packages/seaborn/axisgrid.py:2153\u001b[0m, in \u001b[0;36mpairplot\u001b[0;34m(data, hue, hue_order, palette, vars, x_vars, y_vars, kind, diag_kind, markers, height, aspect, corner, dropna, plot_kws, diag_kws, grid_kws, size)\u001b[0m\n\u001b[1;32m   2151\u001b[0m     diag_kws\u001b[38;5;241m.\u001b[39msetdefault(\u001b[38;5;124m\"\u001b[39m\u001b[38;5;124mfill\u001b[39m\u001b[38;5;124m\"\u001b[39m, \u001b[38;5;28;01mTrue\u001b[39;00m)\n\u001b[1;32m   2152\u001b[0m     diag_kws\u001b[38;5;241m.\u001b[39msetdefault(\u001b[38;5;124m\"\u001b[39m\u001b[38;5;124mwarn_singular\u001b[39m\u001b[38;5;124m\"\u001b[39m, \u001b[38;5;28;01mFalse\u001b[39;00m)\n\u001b[0;32m-> 2153\u001b[0m     \u001b[43mgrid\u001b[49m\u001b[38;5;241;43m.\u001b[39;49m\u001b[43mmap_diag\u001b[49m\u001b[43m(\u001b[49m\u001b[43mkdeplot\u001b[49m\u001b[43m,\u001b[49m\u001b[43m \u001b[49m\u001b[38;5;241;43m*\u001b[39;49m\u001b[38;5;241;43m*\u001b[39;49m\u001b[43mdiag_kws\u001b[49m\u001b[43m)\u001b[49m\n\u001b[1;32m   2155\u001b[0m \u001b[38;5;66;03m# Maybe plot on the off-diagonals\u001b[39;00m\n\u001b[1;32m   2156\u001b[0m \u001b[38;5;28;01mif\u001b[39;00m diag_kind \u001b[38;5;129;01mis\u001b[39;00m \u001b[38;5;129;01mnot\u001b[39;00m \u001b[38;5;28;01mNone\u001b[39;00m:\n",
      "File \u001b[0;32m/opt/homebrew/Caskroom/miniconda/base/lib/python3.12/site-packages/seaborn/axisgrid.py:1513\u001b[0m, in \u001b[0;36mPairGrid.map_diag\u001b[0;34m(self, func, **kwargs)\u001b[0m\n\u001b[1;32m   1511\u001b[0m     plot_kwargs\u001b[38;5;241m.\u001b[39msetdefault(\u001b[38;5;124m\"\u001b[39m\u001b[38;5;124mhue_order\u001b[39m\u001b[38;5;124m\"\u001b[39m, \u001b[38;5;28mself\u001b[39m\u001b[38;5;241m.\u001b[39m_hue_order)\n\u001b[1;32m   1512\u001b[0m     plot_kwargs\u001b[38;5;241m.\u001b[39msetdefault(\u001b[38;5;124m\"\u001b[39m\u001b[38;5;124mpalette\u001b[39m\u001b[38;5;124m\"\u001b[39m, \u001b[38;5;28mself\u001b[39m\u001b[38;5;241m.\u001b[39m_orig_palette)\n\u001b[0;32m-> 1513\u001b[0m     \u001b[43mfunc\u001b[49m\u001b[43m(\u001b[49m\u001b[43mx\u001b[49m\u001b[38;5;241;43m=\u001b[39;49m\u001b[43mvector\u001b[49m\u001b[43m,\u001b[49m\u001b[43m \u001b[49m\u001b[38;5;241;43m*\u001b[39;49m\u001b[38;5;241;43m*\u001b[39;49m\u001b[43mplot_kwargs\u001b[49m\u001b[43m)\u001b[49m\n\u001b[1;32m   1514\u001b[0m     ax\u001b[38;5;241m.\u001b[39mlegend_ \u001b[38;5;241m=\u001b[39m \u001b[38;5;28;01mNone\u001b[39;00m\n\u001b[1;32m   1516\u001b[0m \u001b[38;5;28mself\u001b[39m\u001b[38;5;241m.\u001b[39m_add_axis_labels()\n",
      "File \u001b[0;32m/opt/homebrew/Caskroom/miniconda/base/lib/python3.12/site-packages/seaborn/distributions.py:1679\u001b[0m, in \u001b[0;36mkdeplot\u001b[0;34m(data, x, y, hue, weights, palette, hue_order, hue_norm, color, fill, multiple, common_norm, common_grid, cumulative, bw_method, bw_adjust, warn_singular, log_scale, levels, thresh, gridsize, cut, clip, legend, cbar, cbar_ax, cbar_kws, ax, **kwargs)\u001b[0m\n\u001b[1;32m   1676\u001b[0m \u001b[38;5;28;01mif\u001b[39;00m ax \u001b[38;5;129;01mis\u001b[39;00m \u001b[38;5;28;01mNone\u001b[39;00m:\n\u001b[1;32m   1677\u001b[0m     ax \u001b[38;5;241m=\u001b[39m plt\u001b[38;5;241m.\u001b[39mgca()\n\u001b[0;32m-> 1679\u001b[0m \u001b[43mp\u001b[49m\u001b[38;5;241;43m.\u001b[39;49m\u001b[43m_attach\u001b[49m\u001b[43m(\u001b[49m\u001b[43max\u001b[49m\u001b[43m,\u001b[49m\u001b[43m \u001b[49m\u001b[43mallowed_types\u001b[49m\u001b[38;5;241;43m=\u001b[39;49m\u001b[43m[\u001b[49m\u001b[38;5;124;43m\"\u001b[39;49m\u001b[38;5;124;43mnumeric\u001b[39;49m\u001b[38;5;124;43m\"\u001b[39;49m\u001b[43m,\u001b[49m\u001b[43m \u001b[49m\u001b[38;5;124;43m\"\u001b[39;49m\u001b[38;5;124;43mdatetime\u001b[39;49m\u001b[38;5;124;43m\"\u001b[39;49m\u001b[43m]\u001b[49m\u001b[43m,\u001b[49m\u001b[43m \u001b[49m\u001b[43mlog_scale\u001b[49m\u001b[38;5;241;43m=\u001b[39;49m\u001b[43mlog_scale\u001b[49m\u001b[43m)\u001b[49m\n\u001b[1;32m   1681\u001b[0m method \u001b[38;5;241m=\u001b[39m ax\u001b[38;5;241m.\u001b[39mfill_between \u001b[38;5;28;01mif\u001b[39;00m fill \u001b[38;5;28;01melse\u001b[39;00m ax\u001b[38;5;241m.\u001b[39mplot\n\u001b[1;32m   1682\u001b[0m color \u001b[38;5;241m=\u001b[39m _default_color(method, hue, color, kwargs)\n",
      "File \u001b[0;32m/opt/homebrew/Caskroom/miniconda/base/lib/python3.12/site-packages/seaborn/_base.py:1084\u001b[0m, in \u001b[0;36mVectorPlotter._attach\u001b[0;34m(self, obj, allowed_types, log_scale)\u001b[0m\n\u001b[1;32m   1079\u001b[0m     \u001b[38;5;28;01mif\u001b[39;00m var_type \u001b[38;5;129;01mnot\u001b[39;00m \u001b[38;5;129;01min\u001b[39;00m allowed_types:\n\u001b[1;32m   1080\u001b[0m         err \u001b[38;5;241m=\u001b[39m (\n\u001b[1;32m   1081\u001b[0m             \u001b[38;5;124mf\u001b[39m\u001b[38;5;124m\"\u001b[39m\u001b[38;5;124mThe \u001b[39m\u001b[38;5;132;01m{\u001b[39;00mvar\u001b[38;5;132;01m}\u001b[39;00m\u001b[38;5;124m variable is \u001b[39m\u001b[38;5;132;01m{\u001b[39;00mvar_type\u001b[38;5;132;01m}\u001b[39;00m\u001b[38;5;124m, but one of \u001b[39m\u001b[38;5;124m\"\u001b[39m\n\u001b[1;32m   1082\u001b[0m             \u001b[38;5;124mf\u001b[39m\u001b[38;5;124m\"\u001b[39m\u001b[38;5;132;01m{\u001b[39;00mallowed_types\u001b[38;5;132;01m}\u001b[39;00m\u001b[38;5;124m is required\u001b[39m\u001b[38;5;124m\"\u001b[39m\n\u001b[1;32m   1083\u001b[0m         )\n\u001b[0;32m-> 1084\u001b[0m         \u001b[38;5;28;01mraise\u001b[39;00m \u001b[38;5;167;01mTypeError\u001b[39;00m(err)\n\u001b[1;32m   1086\u001b[0m \u001b[38;5;66;03m# -- Get axis objects for each row in plot_data for type conversions and scaling\u001b[39;00m\n\u001b[1;32m   1088\u001b[0m facet_dim \u001b[38;5;241m=\u001b[39m {\u001b[38;5;124m\"\u001b[39m\u001b[38;5;124mx\u001b[39m\u001b[38;5;124m\"\u001b[39m: \u001b[38;5;124m\"\u001b[39m\u001b[38;5;124mcol\u001b[39m\u001b[38;5;124m\"\u001b[39m, \u001b[38;5;124m\"\u001b[39m\u001b[38;5;124my\u001b[39m\u001b[38;5;124m\"\u001b[39m: \u001b[38;5;124m\"\u001b[39m\u001b[38;5;124mrow\u001b[39m\u001b[38;5;124m\"\u001b[39m}\n",
      "\u001b[0;31mTypeError\u001b[0m: The x variable is categorical, but one of ['numeric', 'datetime'] is required"
     ]
    },
    {
     "data": {
      "image/png": "[encoded data removed]",
      "text/plain": [
       "<Figure size 1500x1500 with 42 Axes>"
      ]
     },
     "metadata": {},
     "output_type": "display_data"
    }
   ],
   "source": [
    "sns.pairplot(df,\n",
    "             vars=['Spa',\n",
    "                   'RoomService',\n",
    "                   'FoodCourt',\n",
    "                   'ShoppingMall',\n",
    "                   'VRDeck',\n",
    "                   'HomePlanet'],\n",
    "            hue='Transported')\n",
    "plt.show()"
   ]
  },
  {
   "cell_type": "code",
   "execution_count": 83,
   "id": "4495d273-468b-46df-b1c2-9a6945811d25",
   "metadata": {},
   "outputs": [
    {
     "data": {
      "text/html": [
       "<div>\n",
       "<style scoped>\n",
       "    .dataframe tbody tr th:only-of-type {\n",
       "        vertical-align: middle;\n",
       "    }\n",
       "\n",
       "    .dataframe tbody tr th {\n",
       "        vertical-align: top;\n",
       "    }\n",
       "\n",
       "    .dataframe thead th {\n",
       "        text-align: right;\n",
       "    }\n",
       "</style>\n",
       "<table border=\"1\" class=\"dataframe\">\n",
       "  <thead>\n",
       "    <tr style=\"text-align: right;\">\n",
       "      <th></th>\n",
       "      <th>PassengerId</th>\n",
       "      <th>HomePlanet</th>\n",
       "      <th>CryoSleep</th>\n",
       "      <th>Cabin</th>\n",
       "      <th>Destination</th>\n",
       "      <th>Age</th>\n",
       "      <th>VIP</th>\n",
       "      <th>RoomService</th>\n",
       "      <th>FoodCourt</th>\n",
       "      <th>ShoppingMall</th>\n",
       "      <th>Spa</th>\n",
       "      <th>VRDeck</th>\n",
       "      <th>Name</th>\n",
       "      <th>Transported</th>\n",
       "      <th>Group</th>\n",
       "      <th>ID</th>\n",
       "      <th>CabinID</th>\n",
       "      <th>HomePlanetID</th>\n",
       "      <th>DestinationID</th>\n",
       "    </tr>\n",
       "  </thead>\n",
       "  <tbody>\n",
       "    <tr>\n",
       "      <th>0</th>\n",
       "      <td>0001_01</td>\n",
       "      <td>Europa</td>\n",
       "      <td>False</td>\n",
       "      <td>B/0/P</td>\n",
       "      <td>TRAPPIST-1e</td>\n",
       "      <td>39.0</td>\n",
       "      <td>False</td>\n",
       "      <td>0.0</td>\n",
       "      <td>0.0</td>\n",
       "      <td>0.0</td>\n",
       "      <td>0.0</td>\n",
       "      <td>0.0</td>\n",
       "      <td>Maham Ofracculy</td>\n",
       "      <td>False</td>\n",
       "      <td>0001</td>\n",
       "      <td>01</td>\n",
       "      <td>0</td>\n",
       "      <td>3</td>\n",
       "      <td>0</td>\n",
       "    </tr>\n",
       "    <tr>\n",
       "      <th>1</th>\n",
       "      <td>0002_01</td>\n",
       "      <td>Earth</td>\n",
       "      <td>False</td>\n",
       "      <td>F/0/S</td>\n",
       "      <td>TRAPPIST-1e</td>\n",
       "      <td>24.0</td>\n",
       "      <td>False</td>\n",
       "      <td>109.0</td>\n",
       "      <td>9.0</td>\n",
       "      <td>25.0</td>\n",
       "      <td>549.0</td>\n",
       "      <td>44.0</td>\n",
       "      <td>Juanna Vines</td>\n",
       "      <td>True</td>\n",
       "      <td>0002</td>\n",
       "      <td>01</td>\n",
       "      <td>1</td>\n",
       "      <td>1</td>\n",
       "      <td>0</td>\n",
       "    </tr>\n",
       "    <tr>\n",
       "      <th>2</th>\n",
       "      <td>0003_01</td>\n",
       "      <td>Europa</td>\n",
       "      <td>False</td>\n",
       "      <td>A/0/S</td>\n",
       "      <td>TRAPPIST-1e</td>\n",
       "      <td>58.0</td>\n",
       "      <td>True</td>\n",
       "      <td>43.0</td>\n",
       "      <td>3576.0</td>\n",
       "      <td>0.0</td>\n",
       "      <td>6715.0</td>\n",
       "      <td>49.0</td>\n",
       "      <td>Altark Susent</td>\n",
       "      <td>False</td>\n",
       "      <td>0003</td>\n",
       "      <td>01</td>\n",
       "      <td>2</td>\n",
       "      <td>3</td>\n",
       "      <td>0</td>\n",
       "    </tr>\n",
       "    <tr>\n",
       "      <th>3</th>\n",
       "      <td>0003_02</td>\n",
       "      <td>Europa</td>\n",
       "      <td>False</td>\n",
       "      <td>A/0/S</td>\n",
       "      <td>TRAPPIST-1e</td>\n",
       "      <td>33.0</td>\n",
       "      <td>False</td>\n",
       "      <td>0.0</td>\n",
       "      <td>1283.0</td>\n",
       "      <td>371.0</td>\n",
       "      <td>3329.0</td>\n",
       "      <td>193.0</td>\n",
       "      <td>Solam Susent</td>\n",
       "      <td>False</td>\n",
       "      <td>0003</td>\n",
       "      <td>02</td>\n",
       "      <td>2</td>\n",
       "      <td>3</td>\n",
       "      <td>0</td>\n",
       "    </tr>\n",
       "    <tr>\n",
       "      <th>4</th>\n",
       "      <td>0004_01</td>\n",
       "      <td>Earth</td>\n",
       "      <td>False</td>\n",
       "      <td>F/1/S</td>\n",
       "      <td>TRAPPIST-1e</td>\n",
       "      <td>16.0</td>\n",
       "      <td>False</td>\n",
       "      <td>303.0</td>\n",
       "      <td>70.0</td>\n",
       "      <td>151.0</td>\n",
       "      <td>565.0</td>\n",
       "      <td>2.0</td>\n",
       "      <td>Willy Santantines</td>\n",
       "      <td>True</td>\n",
       "      <td>0004</td>\n",
       "      <td>01</td>\n",
       "      <td>3</td>\n",
       "      <td>1</td>\n",
       "      <td>0</td>\n",
       "    </tr>\n",
       "  </tbody>\n",
       "</table>\n",
       "</div>"
      ],
      "text/plain": [
       "  PassengerId HomePlanet CryoSleep  Cabin  Destination   Age    VIP  \\\n",
       "0     0001_01     Europa     False  B/0/P  TRAPPIST-1e  39.0  False   \n",
       "1     0002_01      Earth     False  F/0/S  TRAPPIST-1e  24.0  False   \n",
       "2     0003_01     Europa     False  A/0/S  TRAPPIST-1e  58.0   True   \n",
       "3     0003_02     Europa     False  A/0/S  TRAPPIST-1e  33.0  False   \n",
       "4     0004_01      Earth     False  F/1/S  TRAPPIST-1e  16.0  False   \n",
       "\n",
       "   RoomService  FoodCourt  ShoppingMall     Spa  VRDeck               Name  \\\n",
       "0          0.0        0.0           0.0     0.0     0.0    Maham Ofracculy   \n",
       "1        109.0        9.0          25.0   549.0    44.0       Juanna Vines   \n",
       "2         43.0     3576.0           0.0  6715.0    49.0      Altark Susent   \n",
       "3          0.0     1283.0         371.0  3329.0   193.0       Solam Susent   \n",
       "4        303.0       70.0         151.0   565.0     2.0  Willy Santantines   \n",
       "\n",
       "   Transported Group  ID  CabinID  HomePlanetID  DestinationID  \n",
       "0        False  0001  01        0             3              0  \n",
       "1         True  0002  01        1             1              0  \n",
       "2        False  0003  01        2             3              0  \n",
       "3        False  0003  02        2             3              0  \n",
       "4         True  0004  01        3             1              0  "
      ]
     },
     "execution_count": 83,
     "metadata": {},
     "output_type": "execute_result"
    }
   ],
   "source": [
    "df.head(5)"
   ]
  },
  {
   "cell_type": "code",
   "execution_count": 84,
   "id": "4ce8a3ac",
   "metadata": {
    "papermill": {
     "duration": 0.053233,
     "end_time": "2021-12-31T22:25:33.756533",
     "exception": false,
     "start_time": "2021-12-31T22:25:33.703300",
     "status": "completed"
    },
    "tags": []
   },
   "outputs": [
    {
     "data": {
      "text/html": [
       "<div>\n",
       "<style scoped>\n",
       "    .dataframe tbody tr th:only-of-type {\n",
       "        vertical-align: middle;\n",
       "    }\n",
       "\n",
       "    .dataframe tbody tr th {\n",
       "        vertical-align: top;\n",
       "    }\n",
       "\n",
       "    .dataframe thead th {\n",
       "        text-align: right;\n",
       "    }\n",
       "</style>\n",
       "<table border=\"1\" class=\"dataframe\">\n",
       "  <thead>\n",
       "    <tr style=\"text-align: right;\">\n",
       "      <th></th>\n",
       "      <th>Age</th>\n",
       "      <th>RoomService</th>\n",
       "      <th>FoodCourt</th>\n",
       "      <th>ShoppingMall</th>\n",
       "      <th>Spa</th>\n",
       "      <th>VRDeck</th>\n",
       "      <th>Transported</th>\n",
       "      <th>CabinID</th>\n",
       "      <th>HomePlanetID</th>\n",
       "      <th>DestinationID</th>\n",
       "    </tr>\n",
       "  </thead>\n",
       "  <tbody>\n",
       "    <tr>\n",
       "      <th>Age</th>\n",
       "      <td>1.000000</td>\n",
       "      <td>0.074783</td>\n",
       "      <td>0.135844</td>\n",
       "      <td>0.042314</td>\n",
       "      <td>0.123820</td>\n",
       "      <td>0.105031</td>\n",
       "      <td>-0.082553</td>\n",
       "      <td>-0.006594</td>\n",
       "      <td>0.242439</td>\n",
       "      <td>0.010014</td>\n",
       "    </tr>\n",
       "    <tr>\n",
       "      <th>RoomService</th>\n",
       "      <td>0.074783</td>\n",
       "      <td>1.000000</td>\n",
       "      <td>-0.013614</td>\n",
       "      <td>0.060478</td>\n",
       "      <td>0.012472</td>\n",
       "      <td>-0.026002</td>\n",
       "      <td>-0.247291</td>\n",
       "      <td>-0.003442</td>\n",
       "      <td>0.040517</td>\n",
       "      <td>-0.055151</td>\n",
       "    </tr>\n",
       "    <tr>\n",
       "      <th>FoodCourt</th>\n",
       "      <td>0.135844</td>\n",
       "      <td>-0.013614</td>\n",
       "      <td>1.000000</td>\n",
       "      <td>-0.012320</td>\n",
       "      <td>0.215995</td>\n",
       "      <td>0.216997</td>\n",
       "      <td>0.055025</td>\n",
       "      <td>-0.006301</td>\n",
       "      <td>0.323833</td>\n",
       "      <td>0.108887</td>\n",
       "    </tr>\n",
       "    <tr>\n",
       "      <th>ShoppingMall</th>\n",
       "      <td>0.042314</td>\n",
       "      <td>0.060478</td>\n",
       "      <td>-0.012320</td>\n",
       "      <td>1.000000</td>\n",
       "      <td>0.022168</td>\n",
       "      <td>0.000383</td>\n",
       "      <td>0.011602</td>\n",
       "      <td>0.020199</td>\n",
       "      <td>0.035870</td>\n",
       "      <td>-0.021464</td>\n",
       "    </tr>\n",
       "    <tr>\n",
       "      <th>Spa</th>\n",
       "      <td>0.123820</td>\n",
       "      <td>0.012472</td>\n",
       "      <td>0.215995</td>\n",
       "      <td>0.022168</td>\n",
       "      <td>1.000000</td>\n",
       "      <td>0.149447</td>\n",
       "      <td>-0.219854</td>\n",
       "      <td>-0.010420</td>\n",
       "      <td>0.232166</td>\n",
       "      <td>0.057562</td>\n",
       "    </tr>\n",
       "    <tr>\n",
       "      <th>VRDeck</th>\n",
       "      <td>0.105031</td>\n",
       "      <td>-0.026002</td>\n",
       "      <td>0.216997</td>\n",
       "      <td>0.000383</td>\n",
       "      <td>0.149447</td>\n",
       "      <td>1.000000</td>\n",
       "      <td>-0.207950</td>\n",
       "      <td>0.006984</td>\n",
       "      <td>0.243425</td>\n",
       "      <td>0.073714</td>\n",
       "    </tr>\n",
       "    <tr>\n",
       "      <th>Transported</th>\n",
       "      <td>-0.082553</td>\n",
       "      <td>-0.247291</td>\n",
       "      <td>0.055025</td>\n",
       "      <td>0.011602</td>\n",
       "      <td>-0.219854</td>\n",
       "      <td>-0.207950</td>\n",
       "      <td>1.000000</td>\n",
       "      <td>0.023446</td>\n",
       "      <td>0.193676</td>\n",
       "      <td>0.123773</td>\n",
       "    </tr>\n",
       "    <tr>\n",
       "      <th>CabinID</th>\n",
       "      <td>-0.006594</td>\n",
       "      <td>-0.003442</td>\n",
       "      <td>-0.006301</td>\n",
       "      <td>0.020199</td>\n",
       "      <td>-0.010420</td>\n",
       "      <td>0.006984</td>\n",
       "      <td>0.023446</td>\n",
       "      <td>1.000000</td>\n",
       "      <td>0.000556</td>\n",
       "      <td>0.019535</td>\n",
       "    </tr>\n",
       "    <tr>\n",
       "      <th>HomePlanetID</th>\n",
       "      <td>0.242439</td>\n",
       "      <td>0.040517</td>\n",
       "      <td>0.323833</td>\n",
       "      <td>0.035870</td>\n",
       "      <td>0.232166</td>\n",
       "      <td>0.243425</td>\n",
       "      <td>0.193676</td>\n",
       "      <td>0.000556</td>\n",
       "      <td>1.000000</td>\n",
       "      <td>0.160741</td>\n",
       "    </tr>\n",
       "    <tr>\n",
       "      <th>DestinationID</th>\n",
       "      <td>0.010014</td>\n",
       "      <td>-0.055151</td>\n",
       "      <td>0.108887</td>\n",
       "      <td>-0.021464</td>\n",
       "      <td>0.057562</td>\n",
       "      <td>0.073714</td>\n",
       "      <td>0.123773</td>\n",
       "      <td>0.019535</td>\n",
       "      <td>0.160741</td>\n",
       "      <td>1.000000</td>\n",
       "    </tr>\n",
       "  </tbody>\n",
       "</table>\n",
       "</div>"
      ],
      "text/plain": [
       "                    Age  RoomService  FoodCourt  ShoppingMall       Spa  \\\n",
       "Age            1.000000     0.074783   0.135844      0.042314  0.123820   \n",
       "RoomService    0.074783     1.000000  -0.013614      0.060478  0.012472   \n",
       "FoodCourt      0.135844    -0.013614   1.000000     -0.012320  0.215995   \n",
       "ShoppingMall   0.042314     0.060478  -0.012320      1.000000  0.022168   \n",
       "Spa            0.123820     0.012472   0.215995      0.022168  1.000000   \n",
       "VRDeck         0.105031    -0.026002   0.216997      0.000383  0.149447   \n",
       "Transported   -0.082553    -0.247291   0.055025      0.011602 -0.219854   \n",
       "CabinID       -0.006594    -0.003442  -0.006301      0.020199 -0.010420   \n",
       "HomePlanetID   0.242439     0.040517   0.323833      0.035870  0.232166   \n",
       "DestinationID  0.010014    -0.055151   0.108887     -0.021464  0.057562   \n",
       "\n",
       "                 VRDeck  Transported   CabinID  HomePlanetID  DestinationID  \n",
       "Age            0.105031    -0.082553 -0.006594      0.242439       0.010014  \n",
       "RoomService   -0.026002    -0.247291 -0.003442      0.040517      -0.055151  \n",
       "FoodCourt      0.216997     0.055025 -0.006301      0.323833       0.108887  \n",
       "ShoppingMall   0.000383     0.011602  0.020199      0.035870      -0.021464  \n",
       "Spa            0.149447    -0.219854 -0.010420      0.232166       0.057562  \n",
       "VRDeck         1.000000    -0.207950  0.006984      0.243425       0.073714  \n",
       "Transported   -0.207950     1.000000  0.023446      0.193676       0.123773  \n",
       "CabinID        0.006984     0.023446  1.000000      0.000556       0.019535  \n",
       "HomePlanetID   0.243425     0.193676  0.000556      1.000000       0.160741  \n",
       "DestinationID  0.073714     0.123773  0.019535      0.160741       1.000000  "
      ]
     },
     "execution_count": 84,
     "metadata": {},
     "output_type": "execute_result"
    }
   ],
   "source": [
    "df_corr = df_filtered.dropna().corr()\n",
    "df_corr"
   ]
  },
  {
   "cell_type": "code",
   "execution_count": 85,
   "id": "90c955f3",
   "metadata": {
    "papermill": {
     "duration": 0.305333,
     "end_time": "2021-12-31T22:25:34.098497",
     "exception": false,
     "start_time": "2021-12-31T22:25:33.793164",
     "status": "completed"
    },
    "tags": []
   },
   "outputs": [
    {
     "data": {
      "text/plain": [
       "<Axes: >"
      ]
     },
     "execution_count": 85,
     "metadata": {},
     "output_type": "execute_result"
    },
    {
     "data": {
      "image/png": "[encoded data removed]",
      "text/plain": [
       "<Figure size 640x480 with 2 Axes>"
      ]
     },
     "metadata": {},
     "output_type": "display_data"
    }
   ],
   "source": [
    "sns.heatmap(df_corr, annot=True)"
   ]
  },
  {
   "cell_type": "code",
   "execution_count": 99,
   "id": "515a2ec9-d5a3-48db-8883-3d615228cd52",
   "metadata": {},
   "outputs": [
    {
     "name": "stdout",
     "output_type": "stream",
     "text": [
      "(6606, 8)\n"
     ]
    }
   ],
   "source": [
    "df_fjerne_random = df_filtered.drop(columns=[\"CabinID\", \"Age\"])\n",
    "print(df_fjerne_random.shape)"
   ]
  },
  {
   "cell_type": "code",
   "execution_count": 89,
   "id": "2fe29efd-02dd-4a29-9eb9-9e272e66fe2b",
   "metadata": {},
   "outputs": [
    {
     "name": "stdout",
     "output_type": "stream",
     "text": [
      "Accuracy: 0.7844175491679274\n"
     ]
    }
   ],
   "source": [
    "from sklearn.ensemble import BaggingClassifier\n",
    "from sklearn.tree import DecisionTreeClassifier\n",
    "from sklearn.datasets import load_iris\n",
    "from sklearn.model_selection import train_test_split\n",
    "from sklearn.metrics import accuracy_score\n",
    "\n",
    "\n",
    "df_train = df_fjerne_random.drop('Transported', axis=1)\n",
    "\n",
    "X = df_train\n",
    "y = df['Transported']\n",
    "X_train, X_test, y_train, y_test = train_test_split(X, y, test_size=0.2, random_state=42)\n",
    "\n",
    "base_classifier = DecisionTreeClassifier()\n",
    "\n",
    "bagging_classifier = BaggingClassifier(base_classifier, n_estimators=10, random_state=42)\n",
    "bagging_classifier.fit(X_train, y_train)\n",
    "\n",
    "y_pred = bagging_classifier.predict(X_test)\n",
    "accuracy = accuracy_score(y_test, y_pred)\n",
    "print(\"Accuracy:\", accuracy)"
   ]
  },
  {
   "cell_type": "code",
   "execution_count": 100,
   "id": "4118bc48-b88a-4a70-9e9e-309d46530e22",
   "metadata": {},
   "outputs": [
    {
     "name": "stdout",
     "output_type": "stream",
     "text": [
      "(6606, 10)\n"
     ]
    }
   ],
   "source": [
    "print(df_filtered.shape)"
   ]
  },
  {
   "cell_type": "code",
   "execution_count": 93,
   "id": "4d3d985f-5e50-4aed-8703-effd8e0333de",
   "metadata": {},
   "outputs": [
    {
     "name": "stdout",
     "output_type": "stream",
     "text": [
      "Checking whether there is an H2O instance running at http://localhost:54321. connected.\n"
     ]
    },
    {
     "data": {
      "text/html": [
       "\n",
       "<style>\n",
       "\n",
       "#h2o-table-2.h2o-container {\n",
       "  overflow-x: auto;\n",
       "}\n",
       "#h2o-table-2 .h2o-table {\n",
       "  /* width: 100%; */\n",
       "  margin-top: 1em;\n",
       "  margin-bottom: 1em;\n",
       "}\n",
       "#h2o-table-2 .h2o-table caption {\n",
       "  white-space: nowrap;\n",
       "  caption-side: top;\n",
       "  text-align: left;\n",
       "  /* margin-left: 1em; */\n",
       "  margin: 0;\n",
       "  font-size: larger;\n",
       "}\n",
       "#h2o-table-2 .h2o-table thead {\n",
       "  white-space: nowrap; \n",
       "  position: sticky;\n",
       "  top: 0;\n",
       "  box-shadow: 0 -1px inset;\n",
       "}\n",
       "#h2o-table-2 .h2o-table tbody {\n",
       "  overflow: auto;\n",
       "}\n",
       "#h2o-table-2 .h2o-table th,\n",
       "#h2o-table-2 .h2o-table td {\n",
       "  text-align: right;\n",
       "  /* border: 1px solid; */\n",
       "}\n",
       "#h2o-table-2 .h2o-table tr:nth-child(even) {\n",
       "  /* background: #F5F5F5 */\n",
       "}\n",
       "\n",
       "</style>      \n",
       "<div id=\"h2o-table-2\" class=\"h2o-container\">\n",
       "  <table class=\"h2o-table\">\n",
       "    <caption></caption>\n",
       "    <thead></thead>\n",
       "    <tbody><tr><td>H2O_cluster_uptime:</td>\n",
       "<td>1 min 12 secs</td></tr>\n",
       "<tr><td>H2O_cluster_timezone:</td>\n",
       "<td>Europe/Oslo</td></tr>\n",
       "<tr><td>H2O_data_parsing_timezone:</td>\n",
       "<td>UTC</td></tr>\n",
       "<tr><td>H2O_cluster_version:</td>\n",
       "<td>3.46.0.6</td></tr>\n",
       "<tr><td>H2O_cluster_version_age:</td>\n",
       "<td>3 months and 2 days</td></tr>\n",
       "<tr><td>H2O_cluster_name:</td>\n",
       "<td>H2O_from_python_henrik_wehre_zdd7y5</td></tr>\n",
       "<tr><td>H2O_cluster_total_nodes:</td>\n",
       "<td>1</td></tr>\n",
       "<tr><td>H2O_cluster_free_memory:</td>\n",
       "<td>7.979 Gb</td></tr>\n",
       "<tr><td>H2O_cluster_total_cores:</td>\n",
       "<td>12</td></tr>\n",
       "<tr><td>H2O_cluster_allowed_cores:</td>\n",
       "<td>12</td></tr>\n",
       "<tr><td>H2O_cluster_status:</td>\n",
       "<td>locked, healthy</td></tr>\n",
       "<tr><td>H2O_connection_url:</td>\n",
       "<td>http://localhost:54321</td></tr>\n",
       "<tr><td>H2O_connection_proxy:</td>\n",
       "<td>{\"http\": null, \"https\": null}</td></tr>\n",
       "<tr><td>H2O_internal_security:</td>\n",
       "<td>False</td></tr>\n",
       "<tr><td>Python_version:</td>\n",
       "<td>3.12.7 final</td></tr></tbody>\n",
       "  </table>\n",
       "</div>\n"
      ],
      "text/plain": [
       "--------------------------  -----------------------------------\n",
       "H2O_cluster_uptime:         1 min 12 secs\n",
       "H2O_cluster_timezone:       Europe/Oslo\n",
       "H2O_data_parsing_timezone:  UTC\n",
       "H2O_cluster_version:        3.46.0.6\n",
       "H2O_cluster_version_age:    3 months and 2 days\n",
       "H2O_cluster_name:           H2O_from_python_henrik_wehre_zdd7y5\n",
       "H2O_cluster_total_nodes:    1\n",
       "H2O_cluster_free_memory:    7.979 Gb\n",
       "H2O_cluster_total_cores:    12\n",
       "H2O_cluster_allowed_cores:  12\n",
       "H2O_cluster_status:         locked, healthy\n",
       "H2O_connection_url:         http://localhost:54321\n",
       "H2O_connection_proxy:       {\"http\": null, \"https\": null}\n",
       "H2O_internal_security:      False\n",
       "Python_version:             3.12.7 final\n",
       "--------------------------  -----------------------------------"
      ]
     },
     "metadata": {},
     "output_type": "display_data"
    },
    {
     "name": "stdout",
     "output_type": "stream",
     "text": [
      "Parse progress: |████████████████████████████████████████████████████████████████| (done) 100%\n",
      "AutoML progress: |\n",
      "11:26:55.852: AutoML: XGBoost is not available; skipping it.\n",
      "\n",
      "███████████████████████████████████████████████████████████████| (done) 100%\n",
      "model_id                                                      auc    logloss     aucpr    mean_per_class_error      rmse       mse\n",
      "StackedEnsemble_AllModels_1_AutoML_1_20250204_112655     0.882395   0.427643  0.890852                0.206583  0.37226   0.138577\n",
      "StackedEnsemble_BestOfFamily_1_AutoML_1_20250204_112655  0.881778   0.428482  0.889414                0.206914  0.372721  0.138921\n",
      "GBM_1_AutoML_1_20250204_112655                           0.878473   0.435489  0.884729                0.209362  0.375132  0.140724\n",
      "GBM_grid_1_AutoML_1_20250204_112655_model_2              0.878241   0.437369  0.883521                0.204751  0.375259  0.140819\n",
      "GBM_grid_1_AutoML_1_20250204_112655_model_3              0.878121   0.437314  0.886643                0.20561   0.37561   0.141083\n",
      "GBM_2_AutoML_1_20250204_112655                           0.87639    0.440149  0.885868                0.216944  0.377301  0.142356\n",
      "GBM_3_AutoML_1_20250204_112655                           0.875471   0.440637  0.884326                0.211578  0.377644  0.142615\n",
      "GBM_5_AutoML_1_20250204_112655                           0.875201   0.441592  0.88379                 0.205767  0.377716  0.14267\n",
      "DeepLearning_grid_3_AutoML_1_20250204_112655_model_1     0.875189   0.45226   0.884095                0.210203  0.379111  0.143725\n",
      "DeepLearning_grid_1_AutoML_1_20250204_112655_model_1     0.874271   0.468655  0.881772                0.216812  0.382686  0.146449\n",
      "[22 rows x 7 columns]\n",
      "\n"
     ]
    }
   ],
   "source": [
    "import h2o\n",
    "from h2o.automl import H2OAutoML\n",
    "\n",
    "# Start H2O cluster\n",
    "h2o.init()\n",
    "\n",
    "df_h2o = h2o.H2OFrame(df_filtered)\n",
    "\n",
    "# Load dataset\n",
    "#train, test = df_h2o.split_frame(ratios=[0.8])\n",
    "\n",
    "# Define AutoML model\n",
    "aml = H2OAutoML(max_models=20, seed=1)\n",
    "aml.train(y=\"Transported\", training_frame=train)\n",
    "\n",
    "# Evaluate\n",
    "print(aml.leaderboard)"
   ]
  },
  {
   "cell_type": "code",
   "execution_count": 103,
   "id": "e03ce882-5ec2-4b91-9656-c4947ddab0c0",
   "metadata": {},
   "outputs": [
    {
     "name": "stdout",
     "output_type": "stream",
     "text": [
      "Parse progress: |████████████████████████████████████████████████████████████████| (done) 100%\n",
      "███████████████████████████████████████████| (done) 100%\n",
      "predict        False        True\n",
      "True       0.284277   0.715723\n",
      "False      0.996748   0.00325185\n",
      "True       0.280939   0.719061\n",
      "True       0.0727226  0.927277\n",
      "True       0.409606   0.590394\n",
      "True       0.295433   0.704567\n",
      "True       0.287866   0.712134\n",
      "True       0.251277   0.748723\n",
      "True       0.274453   0.725547\n",
      "True       0.330271   0.669729\n",
      "[10 rows x 3 columns]\n",
      "\n",
      "(4277, 3)\n"
     ]
    },
    {
     "name": "stderr",
     "output_type": "stream",
     "text": [
      "/opt/homebrew/Caskroom/miniconda/base/lib/python3.12/site-packages/h2o/job.py:81: UserWarning: Test/Validation dataset is missing column 'CabinID': substituting in a column of NaN\n",
      "  warnings.warn(w)\n",
      "/opt/homebrew/Caskroom/miniconda/base/lib/python3.12/site-packages/h2o/job.py:81: UserWarning: Test/Validation dataset is missing column 'HomePlanetID': substituting in a column of NaN\n",
      "  warnings.warn(w)\n",
      "/opt/homebrew/Caskroom/miniconda/base/lib/python3.12/site-packages/h2o/job.py:81: UserWarning: Test/Validation dataset is missing column 'DestinationID': substituting in a column of NaN\n",
      "  warnings.warn(w)\n"
     ]
    }
   ],
   "source": [
    "df_test = pd.read_csv('input/test.csv')\n",
    "\n",
    "df_test_h2o = h2o.H2OFrame(df_test)\n",
    "\n",
    "# Make predictions on the test set\n",
    "predictions = aml.leader.predict(df_test_h2o)\n",
    "\n",
    "# View the predictions\n",
    "print(predictions.head())\n",
    "\n",
    "print(predictions.shape)"
   ]
  },
  {
   "cell_type": "code",
   "execution_count": 104,
   "id": "9c60243d-5957-4a3b-91b6-6b3fa1d4a200",
   "metadata": {},
   "outputs": [
    {
     "name": "stdout",
     "output_type": "stream",
     "text": [
      "Predictions have been saved to output/predictions.csv\n"
     ]
    },
    {
     "name": "stderr",
     "output_type": "stream",
     "text": [
      "/opt/homebrew/Caskroom/miniconda/base/lib/python3.12/site-packages/h2o/frame.py:1983: H2ODependencyWarning: Converting H2O frame to pandas dataframe using single-thread.  For faster conversion using multi-thread, install polars and pyarrow and use it as pandas_df = h2o_df.as_data_frame(use_multi_thread=True)\n",
      "\n",
      "  warnings.warn(\"Converting H2O frame to pandas dataframe using single-thread.  For faster conversion using\"\n"
     ]
    }
   ],
   "source": [
    "# Convert the predictions H2OFrame to a pandas DataFrame\n",
    "predictions_df = predictions.as_data_frame()\n",
    "\n",
    "# Extract the 'PassengerId' column from the original dataset (df_filtered)\n",
    "# Assuming 'PassengerId' is a column in your original dataframe\n",
    "passenger_id = df_test['PassengerId']\n",
    "\n",
    "# Combine the 'PassengerId' with the 'Transported' prediction\n",
    "output_df = pd.DataFrame({\n",
    "    'PassengerId': passenger_id,\n",
    "    'Transported': predictions_df['predict']  # This column holds the prediction values\n",
    "})\n",
    "\n",
    "# Define the output file path (ensure the folder exists)\n",
    "output_file_path = 'output/predictions.csv'\n",
    "\n",
    "# Write the filtered DataFrame to a CSV file\n",
    "output_df.to_csv(output_file_path, index=False)\n",
    "\n",
    "print(f\"Predictions have been saved to {output_file_path}\")\n"
   ]
  }
 ],
 "metadata": {
  "kernelspec": {
   "display_name": "Python 3 (ipykernel)",
   "language": "python",
   "name": "python3"
  },
  "language_info": {
   "codemirror_mode": {
    "name": "ipython",
    "version": 3
   },
   "file_extension": ".py",
   "mimetype": "text/x-python",
   "name": "python",
   "nbconvert_exporter": "python",
   "pygments_lexer": "ipython3",
   "version": "3.12.7"
  },
  "papermill": {
   "default_parameters": {},
   "duration": 19.951116,
   "end_time": "2021-12-31T22:25:35.346596",
   "environment_variables": {},
   "exception": null,
   "input_path": "__notebook__.ipynb",
   "output_path": "__notebook__.ipynb",
   "parameters": {},
   "start_time": "2021-12-31T22:25:15.395480",
   "version": "2.3.3"
  }
 },
 "nbformat": 4,
 "nbformat_minor": 5
}
